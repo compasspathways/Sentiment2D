{
 "cells": [
  {
   "cell_type": "code",
   "execution_count": null,
   "metadata": {},
   "outputs": [],
   "source": [
    "import sys\n",
    "import sys\n",
    "import os\n",
    "import json\n",
    "import io\n",
    "import shutil\n",
    "import numpy as np\n",
    "import pandas as pd\n",
    "import scipy\n",
    "from scipy.stats import pearsonr\n",
    "import statsmodels.formula.api as smf\n",
    "import statsmodels.api as sm\n",
    "from sklearn.neighbors import KernelDensity\n",
    "from sklearn.metrics import roc_curve\n",
    "import plotly.express as px\n",
    "import plotly.graph_objects as go\n",
    "from plotly.subplots import make_subplots\n",
    "from stat_util import score_ci\n",
    "from analysis_utils import *\n",
    "    \n",
    "pd.set_option('display.max_rows', 200)\n",
    "pd.set_option('display.max_colwidth', 1000)\n",
    "\n",
    "# Font color for all figures\n",
    "FONTCOLOR = 'rgba(0.4,0.4,0.4,1.0)'\n",
    "GRIDCOLOR = 'rgba(1.0,1.0,1.0,0.3)'\n",
    "FONTSIZE = 16\n",
    "\n",
    "SUM_COLS = ['Model', 'Group', 'Accuracy', 'MCC', 'f1', 'AUC', 'TN', 'FP', 'FN', 'TP', 'N']\n",
    "SCALE_COLS = ['v4_normalized_valence_mean_pt', 'v4_normalized_valence_mean_th',\n",
    "              'v4_normalized_arousal_mean_pt', 'v4_normalized_arousal_mean_th']\n",
    "KEEP_COLS = ['treatment', 'responder_wk3', 'pca_ebi0'] + SCALE_COLS # + EBI_ITEMS\n",
    "OUTMAP = dict(responder_wk3='Week 3')\n",
    "\n",
    "BASEDIR = './'\n",
    "TABDIR = f'{BASEDIR}/tables'\n",
    "FIGDIR = f'{BASEDIR}/figures'\n",
    "DATDIR = f'{BASEDIR}/data'\n",
    "os.makedirs(TABDIR, exist_ok=True)\n",
    "os.makedirs(FIGDIR, exist_ok=True)\n",
    "print(f'BASEDIR for data, figures, and tables: {BASEDIR}')\n",
    "\n",
    "SHOW_FIGS = True\n",
    "USE_LOCAL_DATA_FILE = True"
   ]
  },
  {
   "cell_type": "markdown",
   "metadata": {},
   "source": [
    "## Load Data"
   ]
  },
  {
   "cell_type": "code",
   "execution_count": null,
   "metadata": {},
   "outputs": [],
   "source": [
    "if USE_LOCAL_DATA_FILE:\n",
    "    df = pd.read_csv(f'{DATDIR}/final_dataframe.csv').set_index('participant_id')\n",
    "else:\n",
    "    assert False, 'ERROR: Must be executed from internal notebook to pull data from DB.'\n",
    "\n",
    "print(df.shape)\n",
    "df.head()"
   ]
  },
  {
   "cell_type": "markdown",
   "metadata": {},
   "source": [
    "## Model Definition"
   ]
  },
  {
   "cell_type": "code",
   "execution_count": null,
   "metadata": {},
   "outputs": [],
   "source": [
    "models = {'EBI': 'OUTCOME ~ 1 + pca_ebi0 ',\n",
    "          'NLP': \n",
    "             ('OUTCOME ~ 1 '\n",
    "              '+ v4_normalized_arousal_mean_pt + v4_normalized_valence_mean_pt '\n",
    "              '+ v4_normalized_arousal_mean_th + v4_normalized_valence_mean_th '),\n",
    "          'EBI and NLP': \n",
    "             ('OUTCOME ~ 1 + pca_ebi0 '\n",
    "              '+ v4_normalized_arousal_mean_pt + v4_normalized_valence_mean_pt '\n",
    "              '+ v4_normalized_arousal_mean_th + v4_normalized_valence_mean_th '),\n",
    "          'Full': \n",
    "             ('OUTCOME ~ 1 + pca_ebi0 + C(treatment) '\n",
    "              f'+ v4_normalized_arousal_mean_pt + v4_normalized_valence_mean_pt '\n",
    "              f'+ v4_normalized_arousal_mean_th + v4_normalized_valence_mean_th '),\n",
    "         }"
   ]
  },
  {
   "cell_type": "markdown",
   "metadata": {},
   "source": [
    "## Stats for the full model"
   ]
  },
  {
   "cell_type": "code",
   "execution_count": null,
   "metadata": {},
   "outputs": [],
   "source": [
    "model_fits = {}\n",
    "for outcome, label in OUTMAP.items():\n",
    "    print(f'\\n*** {outcome} ***')\n",
    "    model = models['Full'].replace('OUTCOME', outcome)\n",
    "    tmpdf = df[pd.unique(KEEP_COLS + [outcome])].dropna().copy()\n",
    "    model_fit, acc_sum, cdf, predicted = fit_logit_statsmodels(tmpdf, model)\n",
    "    model_fits[outcome] = model_fit\n",
    "    model_sum = model_fit.summary()\n",
    "    with open(f'{TABDIR}/{outcome}_logit.tex', 'wt') as fp:\n",
    "        fp.write(model_sum.as_latex())\n",
    "    print(model_sum)"
   ]
  },
  {
   "cell_type": "code",
   "execution_count": null,
   "metadata": {},
   "outputs": [],
   "source": [
    "fit_sum_df = pd.DataFrame([{'Model': OUTMAP[l],\n",
    "                            'Pseudo R-squared': m.prsquared, \n",
    "                            'Chi-square': m.llr, \n",
    "                            'p-value': m.llr_pvalue, \n",
    "                            'df': int(m.df_model),\n",
    "                            'N': len(m.fittedvalues)} for l, m in model_fits.items()])\n",
    "fmt = {'Pseudo R-squared': lambda x: f'{x:0.3f}', 'Chi-square': lambda x: f'{x:0.2f}', \n",
    "       'p-value': lambda x: f'{x:0.3g}'}\n",
    "fit_sum_df.style.format(formatter=fmt).to_latex(f'{TABDIR}/fit_sum.tex')\n",
    "print(fit_sum_df.to_string(index=False, float_format='%0.3f'))"
   ]
  },
  {
   "cell_type": "markdown",
   "metadata": {},
   "source": [
    "## Logistic Regression using sklearn"
   ]
  },
  {
   "cell_type": "code",
   "execution_count": null,
   "metadata": {},
   "outputs": [],
   "source": [
    "results_all, fit_dfs, sum_dfs = {}, {}, {}\n",
    "MM = {1: 'Treatment', 2: 'EBI', 3: 'NLP', 4: 'EBI and NLP', 5: 'Full'}\n",
    "MMR = {v: k for k,v in MM.items()}\n",
    "for outcome in OUTMAP.keys():\n",
    "    print(f'\\n*** {outcome} ***')\n",
    "    results_all[outcome] = {k: {} for k in models}\n",
    "    fit_dfs[outcome] = []\n",
    "    for label, model_template in models.items():\n",
    "        model = model_template.replace('OUTCOME', outcome)\n",
    "        tmpdf = df[pd.unique(KEEP_COLS + [outcome])].dropna().copy()\n",
    "        with HidePrints():\n",
    "            sum_str, model_fit, cdf, y_pred_df, endog = fit_logit_sklearn(tmpdf, model, scale_cols=SCALE_COLS)\n",
    "        results_all[outcome][label] = dict(model_sum=sum_str, model_fit=model_fit, pred_df=y_pred_df, endog=endog)\n",
    "        cdf['Model'] = label\n",
    "        fit_dfs[outcome].append(cdf)\n",
    "    sumdf = pd.concat(fit_dfs[outcome]).reset_index()[SUM_COLS]\n",
    "    sumdf = sumdf.replace(dict(Model=MMR)).sort_values(['Group', 'Model']).replace(dict(Model=MM))\n",
    "    sumdf.Group = sumdf.Group.str.replace('COMP360', '')\n",
    "    sumdf.set_index(['Group', 'Model']).style.format(precision=3).to_latex(f'{TABDIR}/{outcome}_fits.tex')\n",
    "    print(sumdf.to_string(index=False, float_format='%0.3f'))\n",
    "    sum_dfs[outcome] = sumdf"
   ]
  },
  {
   "cell_type": "code",
   "execution_count": null,
   "metadata": {},
   "outputs": [],
   "source": [
    "dfs = []\n",
    "for o, label in OUTMAP.items():\n",
    "    tmpdf = sum_dfs[o].loc[sumdf.Model == 'Full'].copy()\n",
    "    tmpdf.Model = label\n",
    "    dfs.append(tmpdf)\n",
    "simple_sumdf = pd.concat(dfs).sort_values(['Model']).sort_values(['Group', 'Model'], ascending=False)\n",
    "txt = simple_sumdf.style.format(precision=3).to_latex()\n",
    "\n",
    "with open(f'{TABDIR}/all_model_fits.tex', 'wt') as fp:\n",
    "    fp.write(txt)\n",
    "print(simple_sumdf.to_string(index=False, float_format='%0.3f'))"
   ]
  },
  {
   "cell_type": "markdown",
   "metadata": {},
   "source": [
    "## ROC Curves"
   ]
  },
  {
   "cell_type": "code",
   "execution_count": null,
   "metadata": {},
   "outputs": [],
   "source": [
    "rocs = []\n",
    "ht = ('<br>%{customdata[6]}<br>FP Rate = %{x:.3f}<br>TP Rate = %{y:.3f}'\n",
    "      '<br>Threshold = %{customdata[0]:.3f}'\n",
    "      '<br>Accuracy = %{customdata[1]:.1f}%'\n",
    "      '<br>       True+  True-<br>Pred+  %{customdata[2]:^5}  %{customdata[3]:^5}'\n",
    "      '<br>Pred-  %{customdata[4]:^5}  %{customdata[5]:^5}<extra></extra>')\n",
    "for label, res in results_all.items():\n",
    "    r = res['Full']\n",
    "    tmpdf = r['pred_df']\n",
    "    fpr, tpr, thresh = roc_curve(tmpdf[r['endog']], tmpdf.Yes_R)\n",
    "    cm = []\n",
    "    for t in thresh:\n",
    "        pred_bool = tmpdf.Yes_R >= t\n",
    "        tn, fp, fn, tp = confusion_matrix(tmpdf[r['endog']], pred_bool).ravel()\n",
    "        acc = round((tp + tn) / (tn + fp + fn + tp) * 100, 2)\n",
    "        cm.append([t, tp, fp, fn, tn, acc])\n",
    "    cm = np.array(cm).T\n",
    "    outdf = pd.DataFrame(data=np.vstack((fpr, tpr, cm)).T, \n",
    "                         columns=['False Positive Rate', 'True Positive Rate', 'Threshold', \n",
    "                                  'TP', 'FP', 'FN', 'TN', 'Accuracy'])\n",
    "    outdf['Model'] = OUTMAP[label]\n",
    "    rocs.append(outdf)\n",
    "\n",
    "rocsustdf = pd.concat(rocs)\n",
    "\n",
    "fig = px.line(rocsustdf, x='False Positive Rate', y='True Positive Rate', color='Model', width=450, \n",
    "              height=320, hover_data=['Threshold', 'Accuracy', 'TP', 'FP', 'FN', 'TN', 'Model'])\n",
    "fig.update_traces(line=dict(width=2))\n",
    "fig.add_shape(type='line', x0=0, y0=0, x1=1, y1=1, xref='x', yref='y', \n",
    "              line=dict(color='rgba(0.5,0.5,0.5,0.2)', dash=\"dot\"))\n",
    "gridcolor = 'rgba(1.0,1.0,1.0,0.3)'\n",
    "fig.update_yaxes(scaleanchor='x', scaleratio=1, range=[0, 1], linecolor='lightgray', mirror=True, \n",
    "                 gridcolor=gridcolor)\n",
    "fig.update_xaxes(constrain='domain', range=[0, 1], linecolor='lightgray', mirror=True, \n",
    "                 gridcolor=gridcolor)\n",
    "fig.update_layout(font=dict(size=FONTSIZE, color=FONTCOLOR), paper_bgcolor='rgba(0,0,0,0)', \n",
    "                  plot_bgcolor='rgba(0,0,0,0)', xaxis_title='False Positive Rate', \n",
    "                  yaxis_title='True Positive Rate',\n",
    "                  legend=dict(yanchor=\"bottom\", y=0, xanchor=\"right\", x=0.8, font_size=FONTSIZE - 2),\n",
    "                  hoverlabel=dict(bgcolor='rgb(0.95,0.95,0.95)', font_size=12, font_family='Courier'))\n",
    "fig.update_traces(hovertemplate=ht)\n",
    "fig.update_traces(patch={'line': {'color': 'rgba(0.3,0.3,0.3,0.7)', 'width': 2, 'dash': 'solid'}}, \n",
    "                  selector={'legendgroup': 'Week 3'}) \n",
    "fig.update_traces(patch={'line': {'color': 'rgba(0.3,0.3,0.3,0.7)', 'width': 2, 'dash': 'dash'}}, \n",
    "                  selector={'legendgroup': 'Sustained'}) \n",
    "fig['layout']['margin'] = go.layout.Margin(l=0, r=0, b=0, t=0)\n",
    "\n",
    "fig.write_image(f'{FIGDIR}/roc_responders.svg')\n",
    "fig.write_image(f'{FIGDIR}/roc_responders.png')\n",
    "if SHOW_FIGS:\n",
    "    fig.show(config=dict(toImageButtonOptions=dict(format='png', filename='roc_responders', scale=2)))"
   ]
  },
  {
   "cell_type": "markdown",
   "metadata": {},
   "source": [
    "### 95% CI on AUC"
   ]
  },
  {
   "cell_type": "code",
   "execution_count": null,
   "metadata": {},
   "outputs": [],
   "source": [
    "res = []\n",
    "for label, rall in results_all.items():\n",
    "    r = rall['Full']\n",
    "    ytrue = r['pred_df'][r['endog']]\n",
    "    ypred = r['pred_df']['Yes_R']\n",
    "    auc, lb, ub, scores = score_ci(ytrue, ypred, score_fun=roc_auc_score, n_bootstraps=5000, \n",
    "                                   confidence_level=0.95)\n",
    "    res.append(dict(Model=OUTMAP[label], AUC=auc, Lower=lb, Upper=ub))\n",
    "aucdf = pd.DataFrame(res)\n",
    "aucdf.style.format(precision=3).to_latex(f'{TABDIR}/AUC_bootstrap.tex')\n",
    "print(aucdf.to_string(index=False, float_format='%0.3f'))"
   ]
  },
  {
   "cell_type": "markdown",
   "metadata": {},
   "source": [
    "## Plot distributions"
   ]
  },
  {
   "cell_type": "code",
   "execution_count": null,
   "metadata": {},
   "outputs": [],
   "source": [
    "BW = 0.1 # .1\n",
    "fig = make_subplots(rows=len(results_all), cols=1, shared_yaxes=True, y_title='Density')\n",
    "colors = ['#636EFA', '#EF553B']\n",
    "for idx, itm in enumerate(results_all.items()):\n",
    "    r = itm[1]['Full']\n",
    "    tmpdf = r['pred_df']\n",
    "    endog = r['endog']\n",
    "    sl = True if idx == 0 else False\n",
    "    for resp_val, resp_label in enumerate(['Non-Responder', 'Responder']):\n",
    "        vals = tmpdf['Yes_R'].loc[tmpdf[endog] == resp_val].values\n",
    "        x = np.linspace(-1, 2, 3000)\n",
    "        kde = KernelDensity(kernel=\"gaussian\", bandwidth=BW).fit(vals.reshape(-1, 1))\n",
    "        y = np.exp(kde.score_samples(x[:, np.newaxis]))\n",
    "        x, y = fold_prob(x, y)\n",
    "        plt = go.Scatter(x=x, y=y, fill='tozeroy', name=resp_label, showlegend=sl, \n",
    "                         line=dict(color=colors[resp_val]))\n",
    "        fig.add_trace(plt, row=idx+1, col=1)\n",
    "\n",
    "for idx, label in enumerate(results_all):\n",
    "    fig['layout'][f'xaxis{idx + 1}']['title'] = f'{OUTMAP[label]} Model Predicted Responder Probability'\n",
    "    \n",
    "#fig.update_layout(xaxis_title=f'{OUTMAP[label]} Model Predicted Responder Probability',\n",
    "fig.update_layout(width=700, height=200 * len(results_all), font=dict(size=FONTSIZE, color=FONTCOLOR), \n",
    "                  paper_bgcolor='rgba(0,0,0,0)', plot_bgcolor='rgba(0,0,0,0)',\n",
    "                  legend=dict(font_size=FONTSIZE - 2, yanchor=\"top\", y=0.99, xanchor=\"right\", x=0.99))\n",
    "fig['layout']['annotations'][0]['font']['size'] = FONTSIZE + 4\n",
    "fig.update_yaxes(showgrid=False, showline=False, zerolinecolor='rgba(0,0,0,0)')\n",
    "fig.update_xaxes(showgrid=False, showline=False, zerolinecolor='rgba(0,0,0,0)')\n",
    "fig['layout']['margin'] = go.layout.Margin(l=80, r=0, b=0, t=0)\n",
    "\n",
    "fig.write_image(f'{FIGDIR}/probdist_all.svg')\n",
    "fig.write_image(f'{FIGDIR}/probdist_all.png')\n",
    "if SHOW_FIGS:\n",
    "    fig.show(config=dict(toImageButtonOptions=dict(format='png', filename='probdist_all', scale=2)))"
   ]
  },
  {
   "cell_type": "markdown",
   "metadata": {},
   "source": [
    "## Odds ratio for treatment alone"
   ]
  },
  {
   "cell_type": "code",
   "execution_count": null,
   "metadata": {},
   "outputs": [],
   "source": [
    "model = 'responder_wk3 ~ 1 + C(treatment) '\n",
    "tmpdf = df[KEEP_COLS].dropna().copy()\n",
    "tmpdf.loc[tmpdf.treatment == 0, 'treatment'] = '1 mg'\n",
    "tmpdf.loc[tmpdf.treatment == 1, 'treatment'] = '10 mg'\n",
    "tmpdf.loc[tmpdf.treatment == 2, 'treatment'] = '25 mg'\n",
    "md = smf.logit(formula=model, data=tmpdf)\n",
    "res = md.fit()\n",
    "res_sum = res.summary()\n",
    "with open(f'{TABDIR}/treatment_logit_3cat.tex', 'wt') as fp:\n",
    "    fp.write(res_sum.as_latex())\n",
    "print(res_sum)\n",
    "\n",
    "params = res.params\n",
    "conf = np.exp(res.conf_int())\n",
    "conf['Odds Ratio'] = np.exp(params)\n",
    "conf.columns = ['5%', '95%', 'Odds Ratio']\n",
    "conf.style.format(precision=3).to_latex(f'{TABDIR}/treatment_odds_3cat.tex')\n",
    "print(conf.to_string(float_format='%0.3f'))"
   ]
  },
  {
   "cell_type": "code",
   "execution_count": null,
   "metadata": {},
   "outputs": [],
   "source": []
  }
 ],
 "metadata": {
  "kernelspec": {
   "display_name": "Python 3 (ipykernel)",
   "language": "python",
   "name": "python3"
  },
  "language_info": {
   "codemirror_mode": {
    "name": "ipython",
    "version": 3
   },
   "file_extension": ".py",
   "mimetype": "text/x-python",
   "name": "python",
   "nbconvert_exporter": "python",
   "pygments_lexer": "ipython3",
   "version": "3.9.13"
  }
 },
 "nbformat": 4,
 "nbformat_minor": 4
}
